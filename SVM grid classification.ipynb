{
 "cells": [
  {
   "cell_type": "code",
   "execution_count": 1,
   "id": "f5f59c34-5ed9-4a53-b811-11e189c4031e",
   "metadata": {},
   "outputs": [],
   "source": [
    "import numpy as np\n",
    "import matplotlib.pyplot as plt\n",
    "import pandas as pd"
   ]
  },
  {
   "cell_type": "code",
   "execution_count": 2,
   "id": "96999651-c415-4628-a6af-06b882290919",
   "metadata": {},
   "outputs": [],
   "source": [
    "dataset=pd.read_csv('Social_Network_Ads.csv')"
   ]
  },
  {
   "cell_type": "code",
   "execution_count": 3,
   "id": "246e5117-6766-40ff-81a2-09929ece622b",
   "metadata": {},
   "outputs": [
    {
     "data": {
      "text/html": [
       "<div>\n",
       "<style scoped>\n",
       "    .dataframe tbody tr th:only-of-type {\n",
       "        vertical-align: middle;\n",
       "    }\n",
       "\n",
       "    .dataframe tbody tr th {\n",
       "        vertical-align: top;\n",
       "    }\n",
       "\n",
       "    .dataframe thead th {\n",
       "        text-align: right;\n",
       "    }\n",
       "</style>\n",
       "<table border=\"1\" class=\"dataframe\">\n",
       "  <thead>\n",
       "    <tr style=\"text-align: right;\">\n",
       "      <th></th>\n",
       "      <th>User ID</th>\n",
       "      <th>Gender</th>\n",
       "      <th>Age</th>\n",
       "      <th>EstimatedSalary</th>\n",
       "      <th>Purchased</th>\n",
       "    </tr>\n",
       "  </thead>\n",
       "  <tbody>\n",
       "    <tr>\n",
       "      <th>0</th>\n",
       "      <td>15624510</td>\n",
       "      <td>Male</td>\n",
       "      <td>19</td>\n",
       "      <td>19000</td>\n",
       "      <td>0</td>\n",
       "    </tr>\n",
       "    <tr>\n",
       "      <th>1</th>\n",
       "      <td>15810944</td>\n",
       "      <td>Male</td>\n",
       "      <td>35</td>\n",
       "      <td>20000</td>\n",
       "      <td>0</td>\n",
       "    </tr>\n",
       "    <tr>\n",
       "      <th>2</th>\n",
       "      <td>15668575</td>\n",
       "      <td>Female</td>\n",
       "      <td>26</td>\n",
       "      <td>43000</td>\n",
       "      <td>0</td>\n",
       "    </tr>\n",
       "    <tr>\n",
       "      <th>3</th>\n",
       "      <td>15603246</td>\n",
       "      <td>Female</td>\n",
       "      <td>27</td>\n",
       "      <td>57000</td>\n",
       "      <td>0</td>\n",
       "    </tr>\n",
       "    <tr>\n",
       "      <th>4</th>\n",
       "      <td>15804002</td>\n",
       "      <td>Male</td>\n",
       "      <td>19</td>\n",
       "      <td>76000</td>\n",
       "      <td>0</td>\n",
       "    </tr>\n",
       "    <tr>\n",
       "      <th>...</th>\n",
       "      <td>...</td>\n",
       "      <td>...</td>\n",
       "      <td>...</td>\n",
       "      <td>...</td>\n",
       "      <td>...</td>\n",
       "    </tr>\n",
       "    <tr>\n",
       "      <th>395</th>\n",
       "      <td>15691863</td>\n",
       "      <td>Female</td>\n",
       "      <td>46</td>\n",
       "      <td>41000</td>\n",
       "      <td>1</td>\n",
       "    </tr>\n",
       "    <tr>\n",
       "      <th>396</th>\n",
       "      <td>15706071</td>\n",
       "      <td>Male</td>\n",
       "      <td>51</td>\n",
       "      <td>23000</td>\n",
       "      <td>1</td>\n",
       "    </tr>\n",
       "    <tr>\n",
       "      <th>397</th>\n",
       "      <td>15654296</td>\n",
       "      <td>Female</td>\n",
       "      <td>50</td>\n",
       "      <td>20000</td>\n",
       "      <td>1</td>\n",
       "    </tr>\n",
       "    <tr>\n",
       "      <th>398</th>\n",
       "      <td>15755018</td>\n",
       "      <td>Male</td>\n",
       "      <td>36</td>\n",
       "      <td>33000</td>\n",
       "      <td>0</td>\n",
       "    </tr>\n",
       "    <tr>\n",
       "      <th>399</th>\n",
       "      <td>15594041</td>\n",
       "      <td>Female</td>\n",
       "      <td>49</td>\n",
       "      <td>36000</td>\n",
       "      <td>1</td>\n",
       "    </tr>\n",
       "  </tbody>\n",
       "</table>\n",
       "<p>400 rows × 5 columns</p>\n",
       "</div>"
      ],
      "text/plain": [
       "      User ID  Gender  Age  EstimatedSalary  Purchased\n",
       "0    15624510    Male   19            19000          0\n",
       "1    15810944    Male   35            20000          0\n",
       "2    15668575  Female   26            43000          0\n",
       "3    15603246  Female   27            57000          0\n",
       "4    15804002    Male   19            76000          0\n",
       "..        ...     ...  ...              ...        ...\n",
       "395  15691863  Female   46            41000          1\n",
       "396  15706071    Male   51            23000          1\n",
       "397  15654296  Female   50            20000          1\n",
       "398  15755018    Male   36            33000          0\n",
       "399  15594041  Female   49            36000          1\n",
       "\n",
       "[400 rows x 5 columns]"
      ]
     },
     "execution_count": 3,
     "metadata": {},
     "output_type": "execute_result"
    }
   ],
   "source": [
    "dataset"
   ]
  },
  {
   "cell_type": "code",
   "execution_count": 4,
   "id": "9e8b06d7-a77c-41f7-9c15-8e80c54eaef0",
   "metadata": {},
   "outputs": [],
   "source": [
    "dataset=pd.get_dummies(dataset,drop_first=True)"
   ]
  },
  {
   "cell_type": "code",
   "execution_count": 5,
   "id": "08da4f16-9ed9-4377-b070-fb26da4c86b3",
   "metadata": {},
   "outputs": [],
   "source": [
    "indep=dataset[['Age', 'EstimatedSalary','Gender_Male']]\n",
    "dep=dataset['Purchased']"
   ]
  },
  {
   "cell_type": "code",
   "execution_count": 6,
   "id": "aabe5f59-9c7b-4ea8-863e-bc630aa1782e",
   "metadata": {},
   "outputs": [],
   "source": [
    "from sklearn.model_selection import train_test_split\n",
    "X_train, X_test, y_train, y_test = train_test_split(indep, dep, test_size = 1/3, random_state = 0)\n"
   ]
  },
  {
   "cell_type": "code",
   "execution_count": 7,
   "id": "4fef9b08-fa41-4ff9-802c-7c7df560ae2f",
   "metadata": {},
   "outputs": [],
   "source": [
    "from sklearn.preprocessing import StandardScaler\n",
    "sc = StandardScaler()\n",
    "X_train = sc.fit_transform(X_train)\n",
    "X_test = sc.transform(X_test)"
   ]
  },
  {
   "cell_type": "code",
   "execution_count": 2,
   "id": "495d0258-d0b6-461d-ac8d-d183b5812465",
   "metadata": {},
   "outputs": [],
   "source": [
    "from sklearn.svm import SVC"
   ]
  },
  {
   "cell_type": "code",
   "execution_count": 3,
   "id": "ff8650eb-4509-4138-9693-9cd40c7c1e1b",
   "metadata": {},
   "outputs": [
    {
     "ename": "NameError",
     "evalue": "name 'LogisticRegression' is not defined",
     "output_type": "error",
     "traceback": [
      "\u001b[1;31m---------------------------------------------------------------------------\u001b[0m",
      "\u001b[1;31mNameError\u001b[0m                                 Traceback (most recent call last)",
      "Cell \u001b[1;32mIn[3], line 6\u001b[0m\n\u001b[0;32m      1\u001b[0m \u001b[38;5;28;01mfrom\u001b[39;00m \u001b[38;5;21;01msklearn\u001b[39;00m\u001b[38;5;21;01m.\u001b[39;00m\u001b[38;5;21;01mmodel_selection\u001b[39;00m \u001b[38;5;28;01mimport\u001b[39;00m GridSearchCV\n\u001b[0;32m      3\u001b[0m param_grid \u001b[38;5;241m=\u001b[39m {\u001b[38;5;124m'\u001b[39m\u001b[38;5;124mkernel\u001b[39m\u001b[38;5;124m'\u001b[39m:[\u001b[38;5;124m'\u001b[39m\u001b[38;5;124mlinear\u001b[39m\u001b[38;5;124m'\u001b[39m,\u001b[38;5;124m'\u001b[39m\u001b[38;5;124mrbf\u001b[39m\u001b[38;5;124m'\u001b[39m,\u001b[38;5;124m'\u001b[39m\u001b[38;5;124mpoly\u001b[39m\u001b[38;5;124m'\u001b[39m,\u001b[38;5;124m'\u001b[39m\u001b[38;5;124msigmoid\u001b[39m\u001b[38;5;124m'\u001b[39m],\n\u001b[0;32m      4\u001b[0m              \u001b[38;5;124m'\u001b[39m\u001b[38;5;124mgamma\u001b[39m\u001b[38;5;124m'\u001b[39m:[\u001b[38;5;124m'\u001b[39m\u001b[38;5;124mauto\u001b[39m\u001b[38;5;124m'\u001b[39m,\u001b[38;5;124m'\u001b[39m\u001b[38;5;124mscale\u001b[39m\u001b[38;5;124m'\u001b[39m],\n\u001b[0;32m      5\u001b[0m              \u001b[38;5;124m'\u001b[39m\u001b[38;5;124mC\u001b[39m\u001b[38;5;124m'\u001b[39m:[\u001b[38;5;241m10\u001b[39m,\u001b[38;5;241m100\u001b[39m,\u001b[38;5;241m1000\u001b[39m,\u001b[38;5;241m2000\u001b[39m,\u001b[38;5;241m3000\u001b[39m]}  \n\u001b[1;32m----> 6\u001b[0m grid \u001b[38;5;241m=\u001b[39m GridSearchCV(LogisticRegression(), param_grid, refit \u001b[38;5;241m=\u001b[39m \u001b[38;5;28;01mTrue\u001b[39;00m, verbose \u001b[38;5;241m=\u001b[39m \u001b[38;5;241m3\u001b[39m,n_jobs\u001b[38;5;241m=\u001b[39m\u001b[38;5;241m-\u001b[39m\u001b[38;5;241m1\u001b[39m,scoring\u001b[38;5;241m=\u001b[39m\u001b[38;5;124m'\u001b[39m\u001b[38;5;124mf1_weighted\u001b[39m\u001b[38;5;124m'\u001b[39m) \n\u001b[0;32m      7\u001b[0m grid\u001b[38;5;241m.\u001b[39mfit(X_train, y_train)\n",
      "\u001b[1;31mNameError\u001b[0m: name 'LogisticRegression' is not defined"
     ]
    }
   ],
   "source": [
    "from sklearn.model_selection import GridSearchCV\n",
    "\n",
    "param_grid = {'kernel':['linear','rbf','poly','sigmoid'],\n",
    "             'gamma':['auto','scale'],\n",
    "             'C':[10,100,1000,2000,3000]}  \n",
    "grid = GridSearchCV((), param_grid, refit = True, verbose = 3,n_jobs=-1,scoring='f1_weighted') \n",
    "grid.fit(X_train, y_train) \n",
    " \n",
    "\n"
   ]
  },
  {
   "cell_type": "code",
   "execution_count": 10,
   "id": "f0056713-429f-44bb-aaeb-b3dd21739954",
   "metadata": {},
   "outputs": [],
   "source": [
    "re=grid.cv_results_\n",
    "grid_predictions = grid.predict(X_test) \n",
    "from sklearn.metrics import confusion_matrix\n",
    "cm = confusion_matrix(y_test, grid_predictions)\n",
    "from sklearn.metrics import classification_report\n",
    "clf_report = classification_report(y_test, grid_predictions)"
   ]
  },
  {
   "cell_type": "code",
   "execution_count": 11,
   "id": "0a69afc7-6d19-459b-b609-853e6d200fe3",
   "metadata": {},
   "outputs": [
    {
     "name": "stdout",
     "output_type": "stream",
     "text": [
      "The f1_macro value for best parameter {'penalty': 'l2', 'solver': 'liblinear'}: 0.8794289739855382\n"
     ]
    }
   ],
   "source": [
    "\n",
    "from sklearn.metrics import f1_score\n",
    "f1_macro=f1_score(y_test,grid_predictions,average='weighted')\n",
    "print(\"The f1_macro value for best parameter {}:\".format(grid.best_params_),f1_macro)\n"
   ]
  },
  {
   "cell_type": "code",
   "execution_count": 12,
   "id": "babc71c4-5a5e-44df-9c01-75a7c5111d09",
   "metadata": {},
   "outputs": [
    {
     "name": "stdout",
     "output_type": "stream",
     "text": [
      "The confusion Matrix:\n",
      " [[79  6]\n",
      " [10 39]]\n"
     ]
    }
   ],
   "source": [
    "print(\"The confusion Matrix:\\n\",cm)"
   ]
  },
  {
   "cell_type": "code",
   "execution_count": 13,
   "id": "172dad9a-acfe-4bc6-9b0e-25028b832848",
   "metadata": {},
   "outputs": [
    {
     "name": "stdout",
     "output_type": "stream",
     "text": [
      "The report:\n",
      "               precision    recall  f1-score   support\n",
      "\n",
      "           0       0.89      0.93      0.91        85\n",
      "           1       0.87      0.80      0.83        49\n",
      "\n",
      "    accuracy                           0.88       134\n",
      "   macro avg       0.88      0.86      0.87       134\n",
      "weighted avg       0.88      0.88      0.88       134\n",
      "\n"
     ]
    }
   ],
   "source": [
    "print(\"The report:\\n\",clf_report)"
   ]
  },
  {
   "cell_type": "code",
   "execution_count": 14,
   "id": "6178ba4f-f3d2-431e-a953-60e65823ebdc",
   "metadata": {},
   "outputs": [
    {
     "data": {
      "text/plain": [
       "0.9507803121248499"
      ]
     },
     "execution_count": 14,
     "metadata": {},
     "output_type": "execute_result"
    }
   ],
   "source": [
    "from sklearn.metrics import roc_auc_score\n",
    "\n",
    "roc_auc_score(y_test,grid.predict_proba(X_test)[:,1])\n"
   ]
  },
  {
   "cell_type": "code",
   "execution_count": 15,
   "id": "bcb64d38-4c09-4a17-afbb-fe398f91fd4b",
   "metadata": {},
   "outputs": [],
   "source": [
    "table=pd.DataFrame.from_dict(re)"
   ]
  },
  {
   "cell_type": "code",
   "execution_count": 16,
   "id": "221bb486-12d9-46fb-934d-f693330066af",
   "metadata": {},
   "outputs": [
    {
     "data": {
      "text/html": [
       "<div>\n",
       "<style scoped>\n",
       "    .dataframe tbody tr th:only-of-type {\n",
       "        vertical-align: middle;\n",
       "    }\n",
       "\n",
       "    .dataframe tbody tr th {\n",
       "        vertical-align: top;\n",
       "    }\n",
       "\n",
       "    .dataframe thead th {\n",
       "        text-align: right;\n",
       "    }\n",
       "</style>\n",
       "<table border=\"1\" class=\"dataframe\">\n",
       "  <thead>\n",
       "    <tr style=\"text-align: right;\">\n",
       "      <th></th>\n",
       "      <th>mean_fit_time</th>\n",
       "      <th>std_fit_time</th>\n",
       "      <th>mean_score_time</th>\n",
       "      <th>std_score_time</th>\n",
       "      <th>param_penalty</th>\n",
       "      <th>param_solver</th>\n",
       "      <th>params</th>\n",
       "      <th>split0_test_score</th>\n",
       "      <th>split1_test_score</th>\n",
       "      <th>split2_test_score</th>\n",
       "      <th>split3_test_score</th>\n",
       "      <th>split4_test_score</th>\n",
       "      <th>mean_test_score</th>\n",
       "      <th>std_test_score</th>\n",
       "      <th>rank_test_score</th>\n",
       "    </tr>\n",
       "  </thead>\n",
       "  <tbody>\n",
       "    <tr>\n",
       "      <th>0</th>\n",
       "      <td>0.006547</td>\n",
       "      <td>0.004524</td>\n",
       "      <td>0.005149</td>\n",
       "      <td>0.003037</td>\n",
       "      <td>l2</td>\n",
       "      <td>newton-cg</td>\n",
       "      <td>{'penalty': 'l2', 'solver': 'newton-cg'}</td>\n",
       "      <td>0.799620</td>\n",
       "      <td>0.811321</td>\n",
       "      <td>0.68205</td>\n",
       "      <td>0.92351</td>\n",
       "      <td>0.922185</td>\n",
       "      <td>0.827737</td>\n",
       "      <td>0.089864</td>\n",
       "      <td>2</td>\n",
       "    </tr>\n",
       "    <tr>\n",
       "      <th>1</th>\n",
       "      <td>0.004667</td>\n",
       "      <td>0.003803</td>\n",
       "      <td>0.001887</td>\n",
       "      <td>0.002313</td>\n",
       "      <td>l2</td>\n",
       "      <td>lbfgs</td>\n",
       "      <td>{'penalty': 'l2', 'solver': 'lbfgs'}</td>\n",
       "      <td>0.799620</td>\n",
       "      <td>0.811321</td>\n",
       "      <td>0.68205</td>\n",
       "      <td>0.92351</td>\n",
       "      <td>0.922185</td>\n",
       "      <td>0.827737</td>\n",
       "      <td>0.089864</td>\n",
       "      <td>2</td>\n",
       "    </tr>\n",
       "    <tr>\n",
       "      <th>2</th>\n",
       "      <td>0.003167</td>\n",
       "      <td>0.002384</td>\n",
       "      <td>0.001818</td>\n",
       "      <td>0.002570</td>\n",
       "      <td>l2</td>\n",
       "      <td>liblinear</td>\n",
       "      <td>{'penalty': 'l2', 'solver': 'liblinear'}</td>\n",
       "      <td>0.804764</td>\n",
       "      <td>0.811321</td>\n",
       "      <td>0.68205</td>\n",
       "      <td>0.92351</td>\n",
       "      <td>0.922185</td>\n",
       "      <td>0.828766</td>\n",
       "      <td>0.089565</td>\n",
       "      <td>1</td>\n",
       "    </tr>\n",
       "    <tr>\n",
       "      <th>3</th>\n",
       "      <td>0.004109</td>\n",
       "      <td>0.003750</td>\n",
       "      <td>0.002419</td>\n",
       "      <td>0.003511</td>\n",
       "      <td>l2</td>\n",
       "      <td>saga</td>\n",
       "      <td>{'penalty': 'l2', 'solver': 'saga'}</td>\n",
       "      <td>0.799620</td>\n",
       "      <td>0.811321</td>\n",
       "      <td>0.68205</td>\n",
       "      <td>0.92351</td>\n",
       "      <td>0.922185</td>\n",
       "      <td>0.827737</td>\n",
       "      <td>0.089864</td>\n",
       "      <td>2</td>\n",
       "    </tr>\n",
       "  </tbody>\n",
       "</table>\n",
       "</div>"
      ],
      "text/plain": [
       "   mean_fit_time  std_fit_time  mean_score_time  std_score_time param_penalty  \\\n",
       "0       0.006547      0.004524         0.005149        0.003037            l2   \n",
       "1       0.004667      0.003803         0.001887        0.002313            l2   \n",
       "2       0.003167      0.002384         0.001818        0.002570            l2   \n",
       "3       0.004109      0.003750         0.002419        0.003511            l2   \n",
       "\n",
       "  param_solver                                    params  split0_test_score  \\\n",
       "0    newton-cg  {'penalty': 'l2', 'solver': 'newton-cg'}           0.799620   \n",
       "1        lbfgs      {'penalty': 'l2', 'solver': 'lbfgs'}           0.799620   \n",
       "2    liblinear  {'penalty': 'l2', 'solver': 'liblinear'}           0.804764   \n",
       "3         saga       {'penalty': 'l2', 'solver': 'saga'}           0.799620   \n",
       "\n",
       "   split1_test_score  split2_test_score  split3_test_score  split4_test_score  \\\n",
       "0           0.811321            0.68205            0.92351           0.922185   \n",
       "1           0.811321            0.68205            0.92351           0.922185   \n",
       "2           0.811321            0.68205            0.92351           0.922185   \n",
       "3           0.811321            0.68205            0.92351           0.922185   \n",
       "\n",
       "   mean_test_score  std_test_score  rank_test_score  \n",
       "0         0.827737        0.089864                2  \n",
       "1         0.827737        0.089864                2  \n",
       "2         0.828766        0.089565                1  \n",
       "3         0.827737        0.089864                2  "
      ]
     },
     "execution_count": 16,
     "metadata": {},
     "output_type": "execute_result"
    }
   ],
   "source": [
    "table"
   ]
  },
  {
   "cell_type": "code",
   "execution_count": null,
   "id": "6fb9dd0c-314c-473a-8dd1-80bf7b860f3e",
   "metadata": {},
   "outputs": [],
   "source": []
  }
 ],
 "metadata": {
  "kernelspec": {
   "display_name": "Python 3 (ipykernel)",
   "language": "python",
   "name": "python3"
  },
  "language_info": {
   "codemirror_mode": {
    "name": "ipython",
    "version": 3
   },
   "file_extension": ".py",
   "mimetype": "text/x-python",
   "name": "python",
   "nbconvert_exporter": "python",
   "pygments_lexer": "ipython3",
   "version": "3.12.7"
  }
 },
 "nbformat": 4,
 "nbformat_minor": 5
}
